{
 "cells": [
  {
   "cell_type": "markdown",
   "metadata": {},
   "source": [
    "## 最接近的三数之和\n",
    "给定一个包括n个整数的数组nums和一个目标值target。找出nums中的三个整数，使得它们的和与target最接近。返回这三个数的和。假定每组输入只存在唯一答案  \n",
    "例如，给定数组nums = [-1,2,1,-4]，和target=1.与target最接近的三个数之和为（-1+2+1）=2\n",
    "### 思路：\n",
    "可以先对数组进行排序，然后用双指针比较数组里面的数字与target"
   ]
  },
  {
   "cell_type": "code",
   "execution_count": 2,
   "metadata": {},
   "outputs": [],
   "source": [
    "class Solution(object):\n",
    "    def threeSumClosest(self, nums, target):\n",
    "        \"\"\"\n",
    "        :type nums: List[int]\n",
    "        :type target: int\n",
    "        :rtype: int\n",
    "        \"\"\"\n",
    "        nums,r,end = sorted(nums),float('inf'),len(nums) -1\n",
    "        for c in range(len(nums)-2):\n",
    "            i,j = max(c+1,bisect.bisect_left(nums,target-nums[end]-nums[c],c+1,end)-1),end\n",
    "            while r != target and i<j:\n",
    "                s = nums[c] + nums[i] +nums[j]\n",
    "                r,i,j = min(r,s,key=lambda x:abs(x-target)),i+(s<target),j-(s>target)\n",
    "        return r"
   ]
  },
  {
   "cell_type": "markdown",
   "metadata": {},
   "source": [
    "## 有效的括号\n",
    "给定一个只包括'(',')'，'{','}'，'[',']'的字符串，判断字符串是否有效  \n",
    "有效字符串需满足：  \n",
    "* 左括号必须用相同类型的右括号闭合  \n",
    "* 左括号必须以正确的顺序闭合\n",
    "注意空字符串可以被认为是有效字符串  \n",
    "\n",
    "### 思路：\n",
    "因为只有三种类型的括号，所以直接判断是否出现过这三种类型的括号就行"
   ]
  },
  {
   "cell_type": "code",
   "execution_count": 3,
   "metadata": {},
   "outputs": [],
   "source": [
    "class Solution(object):\n",
    "    def isValid(self, s):\n",
    "        \"\"\"\n",
    "        :type s: str\n",
    "        :rtype: bool\n",
    "        \"\"\"\n",
    "        while '{}' in s or '()' in s or '[]' in s:\n",
    "            s = s.replace('{}','')\n",
    "            s = s.replace('()','')\n",
    "            s = s.replace('[]','')\n",
    "        return s == ''"
   ]
  },
  {
   "cell_type": "markdown",
   "metadata": {},
   "source": [
    "## 合并两个有序链表\n",
    "将两个有序链表合并为一个新的有序链表并返回。新链表示通过拼接给定的两个链表的所有节点组成的  \n",
    "例如：  \n",
    "输入：1->2->4,1->3->4  \n",
    "输出：1->1->2->3->4->4\n",
    "### 思路：\n",
    "递归"
   ]
  },
  {
   "cell_type": "code",
   "execution_count": 4,
   "metadata": {},
   "outputs": [],
   "source": [
    "# Definition for singly-linked list.\n",
    "# class ListNode(object):\n",
    "#     def __init__(self, val=0, next=None):\n",
    "#         self.val = val\n",
    "#         self.next = next\n",
    "class Solution(object):\n",
    "    def mergeTwoLists(self, l1, l2):\n",
    "        \"\"\"\n",
    "        :type l1: ListNode\n",
    "        :type l2: ListNode\n",
    "        :rtype: ListNode\n",
    "        \"\"\"\n",
    "        if not l1: return l2 \n",
    "        if not l2: return l1\n",
    "        if l1.val <= l2.val:\n",
    "            l1.next = self.mergeTwoLists(l1.next,l2)\n",
    "            return l1\n",
    "        else:\n",
    "            l2.next = self.mergeTwoLists(l1,l2.next)\n",
    "            return l2"
   ]
  }
 ],
 "metadata": {
  "kernelspec": {
   "display_name": "Python 3",
   "language": "python",
   "name": "python3"
  },
  "language_info": {
   "codemirror_mode": {
    "name": "ipython",
    "version": 3
   },
   "file_extension": ".py",
   "mimetype": "text/x-python",
   "name": "python",
   "nbconvert_exporter": "python",
   "pygments_lexer": "ipython3",
   "version": "3.7.0"
  }
 },
 "nbformat": 4,
 "nbformat_minor": 2
}
