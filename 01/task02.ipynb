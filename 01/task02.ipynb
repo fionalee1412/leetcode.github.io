{
 "cells": [
  {
   "cell_type": "markdown",
   "metadata": {},
   "source": [
    "## 整数反转\n",
    "给出一个 32 位的有符号整数，你需要将这个整数中每位上的数字进行反转。\n",
    "### 思路一：\n",
    "可利用python的字符串的reversed方法，先转成字符串"
   ]
  },
  {
   "cell_type": "code",
   "execution_count": 1,
   "metadata": {},
   "outputs": [],
   "source": [
    "class Solution(object):\n",
    "    def reverse(self, x):\n",
    "        \"\"\"\n",
    "        :type x: int\n",
    "        :rtype: int\n",
    "        \"\"\"\n",
    "        if x < 0:\n",
    "            res = int(''.join(reversed(str(-x))))\n",
    "            return -res if res < 2**31+1 else 0\n",
    "        else:\n",
    "            res = int(''.join(reversed(str(x))))\n",
    "            return res if res < 2**31 else 0"
   ]
  },
  {
   "cell_type": "markdown",
   "metadata": {},
   "source": [
    "### 思路二：\n",
    "用取余运算%10来保存每一位的数字至list1，然后通过遍历list1的方式加总至reverse的数字"
   ]
  },
  {
   "cell_type": "code",
   "execution_count": 2,
   "metadata": {},
   "outputs": [],
   "source": [
    "class Solution(object):\n",
    "    def reverse(self, x):\n",
    "        \"\"\"\n",
    "        :type x: int\n",
    "        :rtype: int\n",
    "        \"\"\"\n",
    "        sum1 = 0\n",
    "        list1 = []\n",
    "        y = x\n",
    "        while abs(x) > 0:\n",
    "            list1.append(abs(x)%10)\n",
    "            x = int(abs(x)/10)\n",
    "        for i in range(0, len(list1)):\n",
    "            sum1 = sum1 + list1[i]*10**(len(list1)-i-1)\n",
    "        if y < -2**31 or sum1 < -2**31 or y > 2**31 or sum1 > 2**31:\n",
    "            return 0\n",
    "        elif y >=0:\n",
    "            return sum1\n",
    "        else:\n",
    "            return - sum1"
   ]
  },
  {
   "cell_type": "markdown",
   "metadata": {},
   "source": [
    "## 字符串转换整数 (atoi)\n",
    "请你来实现一个 atoi 函数，使其能将字符串转换成整数。\n",
    "\n",
    "首先，该函数会根据需要丢弃无用的开头空格字符，直到寻找到第一个非空格的字符为止。\n",
    "\n",
    "当我们寻找到的第一个非空字符为正或者负号时，则将该符号与之后面尽可能多的连续数字组合起来，作为该整数的正负号；假如第一个非空字符是数字，则直接将其与之后连续的数字字符组合起来，形成整数。\n",
    "\n",
    "该字符串除了有效的整数部分之后也可能会存在多余的字符，这些字符可以被忽略，它们对于函数不应该造成影响。\n",
    "\n",
    "注意：假如该字符串中的第一个非空格字符不是一个有效整数字符、字符串为空或字符串仅包含空白字符时，则你的函数不需要进行转换。\n",
    "\n",
    "在任何情况下，若函数不能进行有效的转换时，请返回 0。\n",
    "\n",
    "说明：\n",
    "\n",
    "假设我们的环境只能存储 32 位大小的有符号整数，那么其数值范围为 [−2^31, 2^31− 1]。如果数值超过这个范围，请返回 INT_MAX (2^31− 1) 或 INT_MIN (−2^31) 。\n",
    "### 思路一:\n",
    "用正则匹配"
   ]
  },
  {
   "cell_type": "code",
   "execution_count": 3,
   "metadata": {},
   "outputs": [],
   "source": [
    "class Solution(object):\n",
    "    def myAtoi(self, s):\n",
    "        \"\"\"\n",
    "        :type s: str\n",
    "        :rtype: int\n",
    "        \"\"\"\n",
    "        return max(min(int(*re.findall('^[\\+\\-]?\\d+', s.lstrip())), 2**31 - 1), -2**31)"
   ]
  },
  {
   "cell_type": "markdown",
   "metadata": {},
   "source": [
    "### 思路二：\n",
    "官方自动机解决方案"
   ]
  },
  {
   "cell_type": "code",
   "execution_count": 4,
   "metadata": {},
   "outputs": [],
   "source": [
    "INT_MAX = 2**31-1\n",
    "INT_MIN = -2**31\n",
    "\n",
    "class Automaton:\n",
    "    def __init__(self):\n",
    "        self.state = 'start'\n",
    "        self.sign = 1\n",
    "        self.ans = 0\n",
    "        self.table = {\n",
    "            'start':['start','signed','in_number','end'],\n",
    "            'signed':['end','end','in_number','end'],\n",
    "            'in_number':['end','end','in_number','end'],\n",
    "            'end':['end','end','end','end'],\n",
    "        }\n",
    "\n",
    "    def get_col(self,c):\n",
    "        if c.isspace():\n",
    "            return 0\n",
    "        if c == '+' or c == '-':\n",
    "            return 1\n",
    "        if c.isdigit():\n",
    "            return 2\n",
    "        return 3\n",
    "    \n",
    "    def get(self,c):\n",
    "        self.state = self.table[self.state][self.get_col(c)]\n",
    "        if self.state == 'in_number':\n",
    "            self.ans = self.ans * 10 + int(c)\n",
    "            self.ans = min(self.ans,INT_MAX) if self.sign == 1 else min(self.ans,-INT_MIN)\n",
    "        elif self.state == 'signed':\n",
    "            self.sign = 1 if c == '+' else -1\n",
    "class Solution(object):\n",
    "    def myAtoi(self, s):\n",
    "        \"\"\"\n",
    "        :type s: str\n",
    "        :rtype: int\n",
    "        \"\"\"\n",
    "        automaton = Automaton()\n",
    "        for c in s:\n",
    "            automaton.get(c)\n",
    "        return automaton.sign * automaton.ans"
   ]
  },
  {
   "cell_type": "markdown",
   "metadata": {},
   "source": [
    "## 回文数\n",
    "判断一个整数是否是回文数。回文数是指正序（从左向右）和倒序（从右向左）读都是一样的整数。\n",
    "### 思路一：\n",
    "转换为字符串，循环判断两个字符是否相等"
   ]
  },
  {
   "cell_type": "code",
   "execution_count": 5,
   "metadata": {},
   "outputs": [],
   "source": [
    "class Solution(object):\n",
    "    def isPalindrome(self, x):\n",
    "        \"\"\"\n",
    "        :type x: int\n",
    "        :rtype: bool\n",
    "        \"\"\"\n",
    "        s = str(x)\n",
    "        l = len(s)\n",
    "        h = l//2\n",
    "        return s[:h] == s[-1:-h-1:-1]"
   ]
  },
  {
   "cell_type": "markdown",
   "metadata": {},
   "source": [
    "### 思路二：\n",
    "直接看回文数是否相等"
   ]
  },
  {
   "cell_type": "code",
   "execution_count": 6,
   "metadata": {},
   "outputs": [],
   "source": [
    "def isPalindrome(self, x):\n",
    "    \"\"\"\n",
    "    :type x: int\n",
    "    :rtype: bool\n",
    "    \"\"\"\n",
    "    if x < 0 or (x % 10 == 0 and x != 0):\n",
    "        return False\n",
    "    i, res = x, 0\n",
    "    while i > res:\n",
    "        res = res * 10 + i % 10\n",
    "        i //= 10\n",
    "    return i == res or i == res // 10"
   ]
  }
 ],
 "metadata": {
  "kernelspec": {
   "display_name": "Python 3",
   "language": "python",
   "name": "python3"
  },
  "language_info": {
   "codemirror_mode": {
    "name": "ipython",
    "version": 3
   },
   "file_extension": ".py",
   "mimetype": "text/x-python",
   "name": "python",
   "nbconvert_exporter": "python",
   "pygments_lexer": "ipython3",
   "version": "3.7.0"
  }
 },
 "nbformat": 4,
 "nbformat_minor": 2
}
