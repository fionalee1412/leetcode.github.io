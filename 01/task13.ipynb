{
 "cells": [
  {
   "cell_type": "markdown",
   "metadata": {},
   "source": [
    "## 相交链表\n",
    "编写一个程序，找到两个单链表相交的起始节点。\n",
    "\n",
    "如下面的两个链表：\n",
    "\n",
    "\n",
    "\n",
    "在节点 c1 开始相交。\n",
    "\n",
    "示例 1：\n",
    "\n",
    "\n",
    "\n",
    "输入：intersectVal = 8, listA = [4,1,8,4,5], listB = [5,0,1,8,4,5], skipA = 2, skipB = 3\n",
    "输出：Reference of the node with value = 8\n",
    "输入解释：相交节点的值为 8 （注意，如果两个列表相交则不能为 0）。\n",
    "从各自的表头开始算起，链表 A 为 [4,1,8,4,5]，链表 B 为 [5,0,1,8,4,5]。\n",
    "在 A 中，相交节点前有 2 个节点；在 B 中，相交节点前有 3 个节点。\n",
    "示例 2：\n",
    "\n",
    "\n",
    "\n",
    "输入：intersectVal = 2, listA = [0,9,1,2,4], listB = [3,2,4], skipA = 3, skipB = 1\n",
    "输出：Reference of the node with value = 2\n",
    "输入解释：相交节点的值为 2 （注意，如果两个列表相交则不能为 0）。\n",
    "从各自的表头开始算起，链表 A 为 [0,9,1,2,4]，链表 B 为 [3,2,4]。\n",
    "在 A 中，相交节点前有 3 个节点；在 B 中，相交节点前有 1 个节点。\n",
    "示例 3：\n",
    "\n",
    "\n",
    "\n",
    "输入：intersectVal = 0, listA = [2,6,4], listB = [1,5], skipA = 3, skipB = 2\n",
    "输出：null\n",
    "输入解释：从各自的表头开始算起，链表 A 为 [2,6,4]，链表 B 为 [1,5]。\n",
    "由于这两个链表不相交，所以 intersectVal 必须为 0，而 skipA 和 skipB 可以是任意值。\n",
    "解释：这两个链表不相交，因此返回 null。\n",
    "注意：\n",
    "\n",
    "如果两个链表没有交点，返回 null.\n",
    "在返回结果后，两个链表仍须保持原有的结构。\n",
    "可假定整个链表结构中没有循环。\n",
    "程序尽量满足 O(n) 时间复杂度，且仅用 O(1) 内存。\n",
    "\n",
    "### 思路\n",
    "双指针"
   ]
  },
  {
   "cell_type": "code",
   "execution_count": 1,
   "metadata": {},
   "outputs": [],
   "source": [
    "# Definition for singly-linked list.\n",
    "# class ListNode(object):\n",
    "#     def __init__(self, x):\n",
    "#         self.val = x\n",
    "#         self.next = None\n",
    "\n",
    "class Solution(object):\n",
    "    def getIntersectionNode(self, headA, headB):\n",
    "        \"\"\"\n",
    "        :type head1, head1: ListNode\n",
    "        :rtype: ListNode\n",
    "        \"\"\"\n",
    "        ha, hb = headA, headB\n",
    "        while ha != hb:\n",
    "            ha = ha.next if ha else headB\n",
    "            hb = hb.next if hb else headA\n",
    "        return ha"
   ]
  },
  {
   "cell_type": "markdown",
   "metadata": {},
   "source": [
    "## 多数元素\n",
    "给定一个大小为 n 的数组，找到其中的众数。众数是指在数组中出现次数大于 ⌊ n/2 ⌋ 的元素。\n",
    "\n",
    "你可以假设数组是非空的，并且给定的数组总是存在众数。\n",
    "\n",
    "示例 1:\n",
    "\n",
    "输入: [3,2,3]\n",
    "输出: 3\n",
    "示例 2:\n",
    "\n",
    "输入: [2,2,1,1,1,2,2]\n",
    "输出: 2\n",
    "### 思路\n",
    "哈希映射"
   ]
  },
  {
   "cell_type": "code",
   "execution_count": 2,
   "metadata": {},
   "outputs": [],
   "source": [
    "class Solution(object):\n",
    "    def majorityElement(self, nums):\n",
    "        \"\"\"\n",
    "        :type nums: List[int]\n",
    "        :rtype: int\n",
    "        \"\"\"\n",
    "        counts = collections.Counter(nums)\n",
    "        return max(counts.keys(), key=counts.get)"
   ]
  },
  {
   "cell_type": "markdown",
   "metadata": {},
   "source": [
    "## 反转链表\n",
    "反转一个单链表。\n",
    "\n",
    "示例:\n",
    "\n",
    "输入: 1->2->3->4->5->NULL\n",
    "输出: 5->4->3->2->1->NULL\n",
    "进阶:\n",
    "\n",
    "你可以迭代或递归地反转链表。你能否用两种方法解决这道题？\n",
    "### 思路\n",
    "双指针"
   ]
  },
  {
   "cell_type": "code",
   "execution_count": null,
   "metadata": {},
   "outputs": [],
   "source": [
    "# Definition for singly-linked list.\n",
    "# class ListNode(object):\n",
    "#     def __init__(self, val=0, next=None):\n",
    "#         self.val = val\n",
    "#         self.next = next\n",
    "class Solution(object):\n",
    "    def reverseList(self, head):\n",
    "\n",
    "        \"\"\"\n",
    "        :type head: ListNode\n",
    "        :rtype: ListNode\n",
    "        \"\"\"\n",
    "        \n",
    "        pre = None\n",
    "        cur = head\n",
    "        while cur:\n",
    "            tmp = cur.next\n",
    "            cur.next = pre\n",
    "            pre = cur\n",
    "            cur = tmp\n",
    "        return pre"
   ]
  }
 ],
 "metadata": {
  "kernelspec": {
   "display_name": "Python 3",
   "language": "python",
   "name": "python3"
  },
  "language_info": {
   "codemirror_mode": {
    "name": "ipython",
    "version": 3
   },
   "file_extension": ".py",
   "mimetype": "text/x-python",
   "name": "python",
   "nbconvert_exporter": "python",
   "pygments_lexer": "ipython3",
   "version": "3.7.0"
  }
 },
 "nbformat": 4,
 "nbformat_minor": 2
}
