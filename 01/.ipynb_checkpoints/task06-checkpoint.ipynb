{
 "cells": [
  {
   "cell_type": "markdown",
   "metadata": {},
   "source": [
    "## 字符串相乘\n",
    "给定两个以字符串形式表示的非负整数 num1 和 num2，返回 num1 和 num2 的乘积，它们的乘积也表示为字符串形式。\n",
    "\n",
    "示例 1:\n",
    "输入: num1 = \"2\", num2 = \"3\"\n",
    "输出: \"6\"\n",
    "\n",
    "示例 2:\n",
    "输入: num1 = \"123\", num2 = \"456\"\n",
    "输出: \"56088\"\n",
    "\n",
    "示例 3:\n",
    "输入: num1 = \"498828660196\", num2 = \"840477629533\"\n",
    "输出: \"419254329864656431168468\"\n",
    "说明：\n",
    "\n",
    "num1 和 num2 的长度小于110。\n",
    "num1 和 num2 只包含数字 0-9。\n",
    "num1 和 num2 均不以零开头，除非是数字 0 本身。\n",
    "不能使用任何标准库的大数类型（比如 BigInteger）或直接将输入转换为整数来处理。\n",
    "\n",
    "### 思路：\n",
    "从右到左遍历乘数，将乘数的每一位与被乘数相乘得到对应的结果，用数组存储结果"
   ]
  },
  {
   "cell_type": "code",
   "execution_count": null,
   "metadata": {},
   "outputs": [],
   "source": [
    "class Solution(object):\n",
    "    def multiply(self, num1, num2):\n",
    "        \"\"\"\n",
    "        :type num1: str\n",
    "        :type num2: str\n",
    "        :rtype: str\n",
    "        \"\"\"\n",
    "        if num1 == \"0\" or num2 == \"0\":\n",
    "            return \"0\"\n",
    "\n",
    "        m,n = len(num1),len(num2)\n",
    "        ansArr = [0] * (m + n)\n",
    "        for i in range(m-1,-1,-1):\n",
    "            x = int(num1[i])\n",
    "            for j in range(n-1,-1,-1):\n",
    "                ansArr[i+j+1] += x * int(num2[j])\n",
    "\n",
    "        for i in range(m+n-1,0,-1):\n",
    "            ansArr[i-1] += ansArr[i] // 10\n",
    "            ansArr[i] %= 10\n",
    "        \n",
    "        index = 1 if ansArr[0] == 0 else 0\n",
    "        ans = \"\".join(str(x) for x in ansArr[index:])\n",
    "        return ans"
   ]
  },
  {
   "cell_type": "markdown",
   "metadata": {},
   "source": [
    "## 全排列\n",
    "\n",
    "给定一个没有重复数字的序列，返回其所有可能的全排列。\n",
    "\n",
    "示例:\n",
    "\n",
    "输入: [1,2,3]\n",
    "输出:\n",
    "[\n",
    "  [1,2,3],\n",
    "  [1,3,2],\n",
    "  [2,1,3],\n",
    "  [2,3,1],\n",
    "  [3,1,2],\n",
    "  [3,2,1]\n",
    "]\n",
    "### 思路：\n",
    "利用回溯算法"
   ]
  },
  {
   "cell_type": "code",
   "execution_count": 1,
   "metadata": {},
   "outputs": [],
   "source": [
    "class Solution(object):\n",
    "    def permute(self, nums):\n",
    "        \"\"\"\n",
    "        :type nums: List[int]\n",
    "        :rtype: List[List[int]]\n",
    "        \"\"\"\n",
    "        def backtrack(first=0):\n",
    "            if first == n:\n",
    "                res.append(nums[:])\n",
    "            for i in range(first,n):\n",
    "                nums[first],nums[i] = nums[i],nums[first]\n",
    "                backtrack(first+1)\n",
    "                nums[first],nums[i] = nums[i],nums[first]\n",
    "\n",
    "        n = len(nums)\n",
    "        res = []\n",
    "        backtrack()\n",
    "        return res"
   ]
  },
  {
   "cell_type": "markdown",
   "metadata": {},
   "source": [
    "## 最大子序和\n",
    "给定一个整数数组 nums，找到一个具有最大和的连续子数组（子数组最少包含一个元素），返回其最大和。\n",
    "\n",
    "示例 1:\n",
    "\n",
    "输入: [-2,1,-3,4,-1,2,1,-5,4],\n",
    "输出: 6\n",
    "解释: 连续子数组 [4,-1,2,1] 的和最大，为 6。\n",
    "示例 2:\n",
    "\n",
    "输入: [-2,1],\n",
    "输出: 1\n",
    "进阶:\n",
    "\n",
    "如果你已经实现复杂度为 O(n) 的解法，尝试使用更为精妙的分治法求解。"
   ]
  },
  {
   "cell_type": "code",
   "execution_count": 2,
   "metadata": {},
   "outputs": [],
   "source": [
    "class Solution(object):\n",
    "    def maxSubArray(self, nums):\n",
    "        \"\"\"\n",
    "        :type nums: List[int]\n",
    "        :rtype: int\n",
    "        \"\"\"\n",
    "        for i in range(1, len(nums)):\n",
    "            nums[i]= nums[i] + max(nums[i-1], 0)\n",
    "        return max(nums)"
   ]
  }
 ],
 "metadata": {
  "kernelspec": {
   "display_name": "Python 3",
   "language": "python",
   "name": "python3"
  },
  "language_info": {
   "codemirror_mode": {
    "name": "ipython",
    "version": 3
   },
   "file_extension": ".py",
   "mimetype": "text/x-python",
   "name": "python",
   "nbconvert_exporter": "python",
   "pygments_lexer": "ipython3",
   "version": "3.7.0"
  }
 },
 "nbformat": 4,
 "nbformat_minor": 2
}
