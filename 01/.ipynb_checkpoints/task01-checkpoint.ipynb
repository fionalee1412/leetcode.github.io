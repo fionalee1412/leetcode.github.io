{
 "cells": [
  {
   "cell_type": "markdown",
   "metadata": {},
   "source": [
    "## 两数相加\n",
    "### 题目：\n",
    "给你两个非空链表，表示两个非负的整数，他们各自的位数是按照逆序的方式存储，并且每个节点只能存储一位数字  \n",
    "请你将两个数相加，并以相同形式返回一个表示和的链表  \n",
    "可以假设除了0之外，这两个数都不会以0开头  \n",
    "输入:l1 = [2,4,3],l2 = [5,6,4]  \n",
    "输出：[7,0,8]  \n",
    "解释：342+465 = 807"
   ]
  },
  {
   "cell_type": "markdown",
   "metadata": {},
   "source": [
    "## 思路：\n",
    "由于都是逆序存储，因此同一个位置的数字可以直接相加，用变量来跟踪进位"
   ]
  },
  {
   "cell_type": "code",
   "execution_count": 3,
   "metadata": {},
   "outputs": [],
   "source": [
    "class Solution:\n",
    "    def addTwoNumbers(self,l1,l2):\n",
    "        re = ListNode(0)\n",
    "        r = re\n",
    "        carry = 0\n",
    "        while(l1 or l2):\n",
    "            x = l1.val if l1 else 0\n",
    "            y = l2.val if l2 else 0\n",
    "            s = carry+x+y\n",
    "            carry = s//10\n",
    "            r.next = ListNode(s%10)\n",
    "            r = r.next\n",
    "            if(l1!=None):l1=l1.next\n",
    "            if(l2!=None):l2=l2.next\n",
    "        if(carry>0):\n",
    "            r.next = ListNode(1)\n",
    "        return re.next"
   ]
  },
  {
   "cell_type": "markdown",
   "metadata": {},
   "source": [
    "## 寻找两个正序数组的中位数\n",
    "### 题目：\n",
    "给定两个大小为m和n的有序数组nums1和nums2  \n",
    "请你找出这两个有序数组的中位数，并且要求算法的时间复杂度为O(log(m+n))  \n",
    "nums1 = [1,3]  \n",
    "nums2 = [2]  \n",
    "则中位数是 2.0"
   ]
  },
  {
   "cell_type": "markdown",
   "metadata": {},
   "source": [
    "## 思路：\n",
    "直接合并数组后排序"
   ]
  },
  {
   "cell_type": "code",
   "execution_count": 4,
   "metadata": {},
   "outputs": [],
   "source": [
    "class Solution:\n",
    "    def findMedianSortedArrays(self,nums1,nums2):\n",
    "        m = len(nums1)\n",
    "        n = len(nums2)\n",
    "        nums1.extend(nums2)\n",
    "        nums1.sort()\n",
    "        if (m+n) & 1:\n",
    "            return nums1[(m+n-1) >> 1]\n",
    "        else:\n",
    "            return (nums1[(m+n-1) >> 1] + nums1[(m+n) >> 1])/2"
   ]
  },
  {
   "cell_type": "markdown",
   "metadata": {},
   "source": [
    "## 最长回文子串\n",
    "### 题目：\n",
    "给定一个字符串s，找到s中最长的回文子串。\n",
    "输入：“babad”\n",
    "输出：“bab”  \n",
    "回文：正着和倒着一样，即左右对称"
   ]
  },
  {
   "cell_type": "markdown",
   "metadata": {},
   "source": [
    "## 思路：\n",
    "动态规划"
   ]
  },
  {
   "cell_type": "code",
   "execution_count": null,
   "metadata": {},
   "outputs": [],
   "source": [
    "class Solution:\n",
    "    def longestPalindrome(self,s:str) -> str:\n",
    "        count = len(s)\n",
    "        if count == 0 or count == 1:\n",
    "            return s\n",
    "        longestPalindromelen = 1\n",
    "        longestPalindromeStr = s[0:1]\n",
    "        dp = [[False] * count for i in range(count)]\n",
    "        for r in range(1,count):\n",
    "            for l in range(0,r):\n",
    "                if s[r] == s[l] and (r - l <=2 or dp[1+r][r-1] == True):\n",
    "                    dp[l][r] = True\n",
    "                    if longestPalindromelen < r-l+1:\n",
    "                        longestPalindromelen = r-l+1\n",
    "                        longestPalindromeStr = s[l:l +longestPalindromelen]\n",
    "        return longestPalindromeStr"
   ]
  }
 ],
 "metadata": {
  "kernelspec": {
   "display_name": "Python 3",
   "language": "python",
   "name": "python3"
  },
  "language_info": {
   "codemirror_mode": {
    "name": "ipython",
    "version": 3
   },
   "file_extension": ".py",
   "mimetype": "text/x-python",
   "name": "python",
   "nbconvert_exporter": "python",
   "pygments_lexer": "ipython3",
   "version": "3.7.0"
  }
 },
 "nbformat": 4,
 "nbformat_minor": 2
}
