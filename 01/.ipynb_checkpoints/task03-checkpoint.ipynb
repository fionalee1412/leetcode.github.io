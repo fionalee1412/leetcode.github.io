{
 "cells": [
  {
   "cell_type": "markdown",
   "metadata": {},
   "source": [
    "## 盛最多水的容器\n",
    "给定 n 个非负整数 a1，a2，...，an，每个数代表坐标中的一个点 (i, ai) 。在坐标内画 n 条垂直线，垂直线 i 的两个端点分别为 (i, ai) 和 (i, 0)。找出其中的两条线，使得它们与 x 轴共同构成的容器可以容纳最多的水。\n",
    "\n",
    "说明：你不能倾斜容器，且 n 的值至少为 2。\n",
    "<img src='https://camo.githubusercontent.com/8c42b673a34c8c755d9be636d53668922e1631f4bb892bd9316a6f00d1d58140/68747470733a2f2f696d67636f6e766572742e6373646e696d672e636e2f6148523063484d364c79396862476c356457347462474d74645842736232466b4c6d397a6379316a6269316f5957356e656d68766453356862476c356457356a6379356a6232307659577870655856754c57786a4c585677624739685a433931634778765957527a4c7a49774d5467764d4463764d6a55766358566c63335270623235664d544575616e426e3f782d6f73732d70726f636573733d696d6167652f666f726d61742c706e67'/>\n",
    "图中垂直线代表输入数组 [1,8,6,2,5,4,8,3,7]。在此情况下，容器能够容纳水（表示为蓝色部分）的最大值为 49。\n",
    "### 思路：\n",
    "先选取两端的点，构成的面积为基础，移动较小的端点，将这次的面积与第一次的比较；然后循环这个过程"
   ]
  },
  {
   "cell_type": "code",
   "execution_count": 2,
   "metadata": {},
   "outputs": [],
   "source": [
    "class Solution(object):\n",
    "    def maxArea(self, height):\n",
    "        \"\"\"\n",
    "        :type height: List[int]\n",
    "        :rtype: int\n",
    "        \"\"\"\n",
    "        l, r = 0, len(height) - 1\n",
    "        ans = 0\n",
    "        while l < r:\n",
    "            area = min(height[l], height[r]) * (r - l)\n",
    "            ans = max(ans, area)\n",
    "            if height[l] <= height[r]:\n",
    "                l += 1\n",
    "            else:\n",
    "                r -= 1\n",
    "        return ans"
   ]
  },
  {
   "cell_type": "markdown",
   "metadata": {},
   "source": [
    "## 最长公共前缀\n",
    "编写一个函数来查找字符串数组中的最长公共前缀。  \n",
    "如果不存在公共前缀，返回空字符串 \"\"。\n",
    "### 思路：\n",
    "python的字符串可以直接比较，而且可以排序，可直接比较最大和最小的"
   ]
  },
  {
   "cell_type": "code",
   "execution_count": 3,
   "metadata": {},
   "outputs": [],
   "source": [
    "class Solution(object):\n",
    "    def longestCommonPrefix(self, strs):\n",
    "        \"\"\"\n",
    "        :type strs: List[str]\n",
    "        :rtype: str\n",
    "        \"\"\"\n",
    "        if not strs:return \"\"\n",
    "        s1 = min(strs)\n",
    "        s2 = max(strs)\n",
    "        for i,x in enumerate(s1):\n",
    "            if x != s2[i]:\n",
    "                return s2[:i]\n",
    "        return s1"
   ]
  },
  {
   "cell_type": "markdown",
   "metadata": {},
   "source": [
    "## 三数之和\n",
    "给定一个包含n个整数的数组nums，判断nums中是否存在三个元素a，b，c，使得a + b + c = 0？找出所有满足条件且不重复的三元组。\n",
    "\n",
    "注意：答案中不可以包含重复的三元组。\n",
    "\n",
    "示例：\n",
    "\n",
    "给定数组 nums = [-1, 0, 1, 2, -1, -4]，\n",
    "\n",
    "满足要求的三元组集合为：\n",
    "[\n",
    "  [-1, 0, 1],\n",
    "  [-1, -1, 2]\n",
    "]\n",
    "### 思路：\n",
    "要不重复的话，先做排序，再用双指针"
   ]
  },
  {
   "cell_type": "code",
   "execution_count": 4,
   "metadata": {},
   "outputs": [],
   "source": [
    "class Solution:\n",
    "    def threeSum(self, nums: [int]) -> [[int]]:\n",
    "        nums.sort()\n",
    "        res, k = [], 0\n",
    "        for k in range(len(nums) - 2):\n",
    "            if nums[k] > 0: break # 1. because of j > i > k.\n",
    "            if k > 0 and nums[k] == nums[k - 1]: continue # 2. skip the same `nums[k]`.\n",
    "            i, j = k + 1, len(nums) - 1\n",
    "            while i < j: # 3. double pointer\n",
    "                s = nums[k] + nums[i] + nums[j]\n",
    "                if s < 0:\n",
    "                    i += 1\n",
    "                    while i < j and nums[i] == nums[i - 1]: i += 1\n",
    "                elif s > 0:\n",
    "                    j -= 1\n",
    "                    while i < j and nums[j] == nums[j + 1]: j -= 1\n",
    "                else:\n",
    "                    res.append([nums[k], nums[i], nums[j]])\n",
    "                    i += 1\n",
    "                    j -= 1\n",
    "                    while i < j and nums[i] == nums[i - 1]: i += 1\n",
    "                    while i < j and nums[j] == nums[j + 1]: j -= 1\n",
    "        return res"
   ]
  }
 ],
 "metadata": {
  "kernelspec": {
   "display_name": "Python 3",
   "language": "python",
   "name": "python3"
  },
  "language_info": {
   "codemirror_mode": {
    "name": "ipython",
    "version": 3
   },
   "file_extension": ".py",
   "mimetype": "text/x-python",
   "name": "python",
   "nbconvert_exporter": "python",
   "pygments_lexer": "ipython3",
   "version": "3.7.0"
  }
 },
 "nbformat": 4,
 "nbformat_minor": 2
}
